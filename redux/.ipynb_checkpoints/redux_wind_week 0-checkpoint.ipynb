{
 "cells": [
  {
   "cell_type": "code",
   "execution_count": 1,
   "metadata": {},
   "outputs": [],
   "source": [
    "import numpy as np\n",
    "import pandas as pd\n",
    "#import sklearn as sk\n",
    "#from sklearn.linear_model import LinearRegression\n",
    "#from sklearn.metrics import r2_score\n",
    "import matplotlib.pyplot as plt\n",
    "%matplotlib inline\n",
    "import seaborn as sns\n",
    "sns.set()\n",
    "#import random\n",
    "#from functools import partial\n",
    "import glob"
   ]
  },
  {
   "cell_type": "code",
   "execution_count": 2,
   "metadata": {},
   "outputs": [],
   "source": [
    "filenames = glob.glob('Kansas\\\\*.csv') # Grabs all the filnames\n",
    "county_names = [f.split('_')[2] for f in filenames] # this line will grab the county name as the third item of the file name list\n",
    "                                                    # Note that this may be different for different states and should be checked!\n",
    "data = np.array(list(zip(filenames, county_names))) # this line combines the name of the csvs with their respective county\n",
    "df = pd.DataFrame(data, columns = ['filename', 'county']) # convert array -> pandas DataFrame (maybe will use SQL later?)\n",
    "df.set_index('county', inplace = True) \n",
    "df.sort_index(ascending = True, inplace = True) # sort dataframe alphabetically by county"
   ]
  },
  {
   "cell_type": "code",
   "execution_count": 3,
   "metadata": {},
   "outputs": [
    {
     "data": {
      "text/plain": [
       "105"
      ]
     },
     "execution_count": 3,
     "metadata": {},
     "output_type": "execute_result"
    }
   ],
   "source": [
    "len(df.index.unique())"
   ]
  }
 ],
 "metadata": {
  "kernelspec": {
   "display_name": "Python 3",
   "language": "python",
   "name": "python3"
  },
  "language_info": {
   "codemirror_mode": {
    "name": "ipython",
    "version": 3
   },
   "file_extension": ".py",
   "mimetype": "text/x-python",
   "name": "python",
   "nbconvert_exporter": "python",
   "pygments_lexer": "ipython3",
   "version": "3.8.3"
  }
 },
 "nbformat": 4,
 "nbformat_minor": 4
}
